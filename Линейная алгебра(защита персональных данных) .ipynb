{
 "cells": [
  {
   "cell_type": "markdown",
   "metadata": {
    "toc": true
   },
   "source": [
    "<h1>Содержание<span class=\"tocSkip\"></span></h1>\n",
    "<div class=\"toc\"><ul class=\"toc-item\"><li><span><a href=\"#Загрузка-данных\" data-toc-modified-id=\"Загрузка-данных-1\"><span class=\"toc-item-num\">1&nbsp;&nbsp;</span>Загрузка данных</a></span></li><li><span><a href=\"#Умножение-матриц\" data-toc-modified-id=\"Умножение-матриц-2\"><span class=\"toc-item-num\">2&nbsp;&nbsp;</span>Умножение матриц</a></span></li><li><span><a href=\"#Алгоритм-преобразования\" data-toc-modified-id=\"Алгоритм-преобразования-3\"><span class=\"toc-item-num\">3&nbsp;&nbsp;</span>Алгоритм преобразования</a></span></li><li><span><a href=\"#Проверка-алгоритма\" data-toc-modified-id=\"Проверка-алгоритма-4\"><span class=\"toc-item-num\">4&nbsp;&nbsp;</span>Проверка алгоритма</a></span></li><li><span><a href=\"#ВЫВОД\" data-toc-modified-id=\"ВЫВОД-5\"><span class=\"toc-item-num\">5&nbsp;&nbsp;</span>ВЫВОД</a></span></li><li><span><a href=\"#Чек-лист-проверки\" data-toc-modified-id=\"Чек-лист-проверки-6\"><span class=\"toc-item-num\">6&nbsp;&nbsp;</span>Чек-лист проверки</a></span></li></ul></div>"
   ]
  },
  {
   "cell_type": "markdown",
   "metadata": {},
   "source": [
    "# ПРОЕКТ: Защита персональных данных клиентов"
   ]
  },
  {
   "cell_type": "markdown",
   "metadata": {},
   "source": [
    "**ОПИСАНИЕ** Работать будем с данными клиентов страховой компании «Хоть потоп». С целью защиты данных страховой компании необходим метод преобразования данных, чтобы по ним было сложно восстановить персональную информацию. \n",
    "\n",
    "В качестве данных представлена следующая информация:\n",
    "\n",
    "- Признаки: пол, возраст и зарплата застрахованного, количество членов его семьи.\n",
    "- Целевой признак: количество страховых выплат клиенту за последние 5 лет.\n",
    "\n",
    "\n",
    "**ЦЕЛЬ:** разработать алгоритм преобразования данных, использование которого не ухудшит качество моделей машинного обучения, которые предсказывают целевой признак. \n",
    "\n",
    "В качестве алгоритма будем проверять алгоритм умножения матрицы признаков на рандомную обратимую матрицу. \n",
    "Работать будем с моделью линейной регрессии.\n",
    "Показатель качества выберем R2, он не должен измениться после преобразования признаков.\n",
    "\n",
    "**ШАГИ ВЫПОЛНЕНИЯ:**\n",
    "\n",
    " - Загружаем и изучаеми данные\n",
    " \n",
    " - Математически доказываем, что при умножении признаков на обратимую матрицу, предсказания не изменятся, а значит, качество линейной регрессии не изменится. Либо изменится\n",
    " \n",
    " - Анализируем, как связаны параметры линейной регрессии в исходной задаче и в преобразованной.\n",
    " \n",
    " - Применяем предложенный алгоритм преобразования данных с помощью матричных операций.\n",
    " \n",
    " - Проверьте с помощью метрики R2, что качество линейной регрессии из sklearn не отличается до и после преобразования.\n",
    " \n",
    " - ВЫВОД"
   ]
  },
  {
   "cell_type": "markdown",
   "metadata": {},
   "source": [
    "## Загрузка данных"
   ]
  },
  {
   "cell_type": "code",
   "execution_count": 1,
   "metadata": {},
   "outputs": [],
   "source": [
    "# импортируем необходимые библиотеки\n",
    "\n",
    "import pandas as pd\n",
    "\n",
    "import matplotlib.pyplot as plt\n",
    "\n",
    "import numpy as np\n",
    "\n",
    "from sklearn.metrics import r2_score\n",
    "\n",
    "from sklearn.linear_model import LinearRegression"
   ]
  },
  {
   "cell_type": "code",
   "execution_count": 2,
   "metadata": {},
   "outputs": [],
   "source": [
    "# прочитаем датафрейм\n",
    "\n",
    "df = pd.read_csv('/datasets/insurance.csv')"
   ]
  },
  {
   "cell_type": "code",
   "execution_count": 3,
   "metadata": {
    "scrolled": false
   },
   "outputs": [
    {
     "data": {
      "text/html": [
       "<div>\n",
       "<style scoped>\n",
       "    .dataframe tbody tr th:only-of-type {\n",
       "        vertical-align: middle;\n",
       "    }\n",
       "\n",
       "    .dataframe tbody tr th {\n",
       "        vertical-align: top;\n",
       "    }\n",
       "\n",
       "    .dataframe thead th {\n",
       "        text-align: right;\n",
       "    }\n",
       "</style>\n",
       "<table border=\"1\" class=\"dataframe\">\n",
       "  <thead>\n",
       "    <tr style=\"text-align: right;\">\n",
       "      <th></th>\n",
       "      <th>Пол</th>\n",
       "      <th>Возраст</th>\n",
       "      <th>Зарплата</th>\n",
       "      <th>Члены семьи</th>\n",
       "      <th>Страховые выплаты</th>\n",
       "    </tr>\n",
       "  </thead>\n",
       "  <tbody>\n",
       "    <tr>\n",
       "      <th>0</th>\n",
       "      <td>1</td>\n",
       "      <td>41.0</td>\n",
       "      <td>49600.0</td>\n",
       "      <td>1</td>\n",
       "      <td>0</td>\n",
       "    </tr>\n",
       "    <tr>\n",
       "      <th>1</th>\n",
       "      <td>0</td>\n",
       "      <td>46.0</td>\n",
       "      <td>38000.0</td>\n",
       "      <td>1</td>\n",
       "      <td>1</td>\n",
       "    </tr>\n",
       "    <tr>\n",
       "      <th>2</th>\n",
       "      <td>0</td>\n",
       "      <td>29.0</td>\n",
       "      <td>21000.0</td>\n",
       "      <td>0</td>\n",
       "      <td>0</td>\n",
       "    </tr>\n",
       "    <tr>\n",
       "      <th>3</th>\n",
       "      <td>0</td>\n",
       "      <td>21.0</td>\n",
       "      <td>41700.0</td>\n",
       "      <td>2</td>\n",
       "      <td>0</td>\n",
       "    </tr>\n",
       "    <tr>\n",
       "      <th>4</th>\n",
       "      <td>1</td>\n",
       "      <td>28.0</td>\n",
       "      <td>26100.0</td>\n",
       "      <td>0</td>\n",
       "      <td>0</td>\n",
       "    </tr>\n",
       "    <tr>\n",
       "      <th>5</th>\n",
       "      <td>1</td>\n",
       "      <td>43.0</td>\n",
       "      <td>41000.0</td>\n",
       "      <td>2</td>\n",
       "      <td>1</td>\n",
       "    </tr>\n",
       "    <tr>\n",
       "      <th>6</th>\n",
       "      <td>1</td>\n",
       "      <td>39.0</td>\n",
       "      <td>39700.0</td>\n",
       "      <td>2</td>\n",
       "      <td>0</td>\n",
       "    </tr>\n",
       "    <tr>\n",
       "      <th>7</th>\n",
       "      <td>1</td>\n",
       "      <td>25.0</td>\n",
       "      <td>38600.0</td>\n",
       "      <td>4</td>\n",
       "      <td>0</td>\n",
       "    </tr>\n",
       "    <tr>\n",
       "      <th>8</th>\n",
       "      <td>1</td>\n",
       "      <td>36.0</td>\n",
       "      <td>49700.0</td>\n",
       "      <td>1</td>\n",
       "      <td>0</td>\n",
       "    </tr>\n",
       "    <tr>\n",
       "      <th>9</th>\n",
       "      <td>1</td>\n",
       "      <td>32.0</td>\n",
       "      <td>51700.0</td>\n",
       "      <td>1</td>\n",
       "      <td>0</td>\n",
       "    </tr>\n",
       "  </tbody>\n",
       "</table>\n",
       "</div>"
      ],
      "text/plain": [
       "   Пол  Возраст  Зарплата  Члены семьи  Страховые выплаты\n",
       "0    1     41.0   49600.0            1                  0\n",
       "1    0     46.0   38000.0            1                  1\n",
       "2    0     29.0   21000.0            0                  0\n",
       "3    0     21.0   41700.0            2                  0\n",
       "4    1     28.0   26100.0            0                  0\n",
       "5    1     43.0   41000.0            2                  1\n",
       "6    1     39.0   39700.0            2                  0\n",
       "7    1     25.0   38600.0            4                  0\n",
       "8    1     36.0   49700.0            1                  0\n",
       "9    1     32.0   51700.0            1                  0"
      ]
     },
     "execution_count": 3,
     "metadata": {},
     "output_type": "execute_result"
    }
   ],
   "source": [
    "# выведем первые 10 строк\n",
    "\n",
    "df.head(10)"
   ]
  },
  {
   "cell_type": "markdown",
   "metadata": {},
   "source": [
    "На первый взгляд никаких особенностей в значениях нет. "
   ]
  },
  {
   "cell_type": "code",
   "execution_count": 4,
   "metadata": {
    "scrolled": false
   },
   "outputs": [
    {
     "name": "stdout",
     "output_type": "stream",
     "text": [
      "<class 'pandas.core.frame.DataFrame'>\n",
      "RangeIndex: 5000 entries, 0 to 4999\n",
      "Data columns (total 5 columns):\n",
      " #   Column             Non-Null Count  Dtype  \n",
      "---  ------             --------------  -----  \n",
      " 0   Пол                5000 non-null   int64  \n",
      " 1   Возраст            5000 non-null   float64\n",
      " 2   Зарплата           5000 non-null   float64\n",
      " 3   Члены семьи        5000 non-null   int64  \n",
      " 4   Страховые выплаты  5000 non-null   int64  \n",
      "dtypes: float64(2), int64(3)\n",
      "memory usage: 195.4 KB\n"
     ]
    }
   ],
   "source": [
    "# проверим информацию о датафрейме\n",
    "\n",
    "df.info()"
   ]
  },
  {
   "cell_type": "markdown",
   "metadata": {},
   "source": [
    "Датафрейм состоит из 5 столбцов и 5000 строк, пропущенных значений нет, типы данных устраивают."
   ]
  },
  {
   "cell_type": "code",
   "execution_count": 5,
   "metadata": {
    "scrolled": true
   },
   "outputs": [
    {
     "data": {
      "text/html": [
       "<div>\n",
       "<style scoped>\n",
       "    .dataframe tbody tr th:only-of-type {\n",
       "        vertical-align: middle;\n",
       "    }\n",
       "\n",
       "    .dataframe tbody tr th {\n",
       "        vertical-align: top;\n",
       "    }\n",
       "\n",
       "    .dataframe thead th {\n",
       "        text-align: right;\n",
       "    }\n",
       "</style>\n",
       "<table border=\"1\" class=\"dataframe\">\n",
       "  <thead>\n",
       "    <tr style=\"text-align: right;\">\n",
       "      <th></th>\n",
       "      <th>Пол</th>\n",
       "      <th>Возраст</th>\n",
       "      <th>Зарплата</th>\n",
       "      <th>Члены семьи</th>\n",
       "      <th>Страховые выплаты</th>\n",
       "    </tr>\n",
       "  </thead>\n",
       "  <tbody>\n",
       "    <tr>\n",
       "      <th>count</th>\n",
       "      <td>5000.000000</td>\n",
       "      <td>5000.000000</td>\n",
       "      <td>5000.000000</td>\n",
       "      <td>5000.000000</td>\n",
       "      <td>5000.000000</td>\n",
       "    </tr>\n",
       "    <tr>\n",
       "      <th>mean</th>\n",
       "      <td>0.499000</td>\n",
       "      <td>30.952800</td>\n",
       "      <td>39916.360000</td>\n",
       "      <td>1.194200</td>\n",
       "      <td>0.148000</td>\n",
       "    </tr>\n",
       "    <tr>\n",
       "      <th>std</th>\n",
       "      <td>0.500049</td>\n",
       "      <td>8.440807</td>\n",
       "      <td>9900.083569</td>\n",
       "      <td>1.091387</td>\n",
       "      <td>0.463183</td>\n",
       "    </tr>\n",
       "    <tr>\n",
       "      <th>min</th>\n",
       "      <td>0.000000</td>\n",
       "      <td>18.000000</td>\n",
       "      <td>5300.000000</td>\n",
       "      <td>0.000000</td>\n",
       "      <td>0.000000</td>\n",
       "    </tr>\n",
       "    <tr>\n",
       "      <th>25%</th>\n",
       "      <td>0.000000</td>\n",
       "      <td>24.000000</td>\n",
       "      <td>33300.000000</td>\n",
       "      <td>0.000000</td>\n",
       "      <td>0.000000</td>\n",
       "    </tr>\n",
       "    <tr>\n",
       "      <th>50%</th>\n",
       "      <td>0.000000</td>\n",
       "      <td>30.000000</td>\n",
       "      <td>40200.000000</td>\n",
       "      <td>1.000000</td>\n",
       "      <td>0.000000</td>\n",
       "    </tr>\n",
       "    <tr>\n",
       "      <th>75%</th>\n",
       "      <td>1.000000</td>\n",
       "      <td>37.000000</td>\n",
       "      <td>46600.000000</td>\n",
       "      <td>2.000000</td>\n",
       "      <td>0.000000</td>\n",
       "    </tr>\n",
       "    <tr>\n",
       "      <th>max</th>\n",
       "      <td>1.000000</td>\n",
       "      <td>65.000000</td>\n",
       "      <td>79000.000000</td>\n",
       "      <td>6.000000</td>\n",
       "      <td>5.000000</td>\n",
       "    </tr>\n",
       "  </tbody>\n",
       "</table>\n",
       "</div>"
      ],
      "text/plain": [
       "               Пол      Возраст      Зарплата  Члены семьи  Страховые выплаты\n",
       "count  5000.000000  5000.000000   5000.000000  5000.000000        5000.000000\n",
       "mean      0.499000    30.952800  39916.360000     1.194200           0.148000\n",
       "std       0.500049     8.440807   9900.083569     1.091387           0.463183\n",
       "min       0.000000    18.000000   5300.000000     0.000000           0.000000\n",
       "25%       0.000000    24.000000  33300.000000     0.000000           0.000000\n",
       "50%       0.000000    30.000000  40200.000000     1.000000           0.000000\n",
       "75%       1.000000    37.000000  46600.000000     2.000000           0.000000\n",
       "max       1.000000    65.000000  79000.000000     6.000000           5.000000"
      ]
     },
     "execution_count": 5,
     "metadata": {},
     "output_type": "execute_result"
    }
   ],
   "source": [
    "# выводим статистические данные датафрейма\n",
    "\n",
    "df.describe()"
   ]
  },
  {
   "cell_type": "markdown",
   "metadata": {},
   "source": [
    "Сравниваем стандартное отклонение со средним значением и среднее значение с медианой - чтобы проверить значения на предмет аномальности и вылетов. Подозрительных значений нет. Предположительно, с данными всё в порядке."
   ]
  },
  {
   "cell_type": "code",
   "execution_count": 6,
   "metadata": {
    "scrolled": true
   },
   "outputs": [
    {
     "data": {
      "image/png": "[encoded data removed]",
      "text/plain": [
       "<Figure size 432x288 with 1 Axes>"
      ]
     },
     "metadata": {
      "needs_background": "light"
     },
     "output_type": "display_data"
    },
    {
     "data": {
      "image/png": "[encoded data removed]",
      "text/plain": [
       "<Figure size 432x288 with 1 Axes>"
      ]
     },
     "metadata": {
      "needs_background": "light"
     },
     "output_type": "display_data"
    },
    {
     "data": {
      "image/png": "[encoded data removed]",
      "text/plain": [
       "<Figure size 432x288 with 1 Axes>"
      ]
     },
     "metadata": {
      "needs_background": "light"
     },
     "output_type": "display_data"
    },
    {
     "data": {
      "image/png": "[encoded data removed]",
      "text/plain": [
       "<Figure size 432x288 with 1 Axes>"
      ]
     },
     "metadata": {
      "needs_background": "light"
     },
     "output_type": "display_data"
    },
    {
     "data": {
      "image/png": "[encoded data removed]",
      "text/plain": [
       "<Figure size 432x288 with 1 Axes>"
      ]
     },
     "metadata": {
      "needs_background": "light"
     },
     "output_type": "display_data"
    }
   ],
   "source": [
    "# строим гистограммы всех признаков\n",
    "\n",
    "for col in df.columns:\n",
    "    plt.hist(df[col])\n",
    "    plt.xlabel(col)\n",
    "    plt.show()"
   ]
  },
  {
   "cell_type": "markdown",
   "metadata": {},
   "source": [
    "Пол разделен примерно пополам, возраст имеет пик от 30 до 35, несовершеннолетних в данных нет, зарплата имеет нормальное распределение, количество членов семьи чаще всего составляет 1 человек, страховые выплаты чаще всего не назначались. С дпризнаками все в порядке. Можно работать."
   ]
  },
  {
   "cell_type": "markdown",
   "metadata": {},
   "source": [
    "## Умножение матриц"
   ]
  },
  {
   "cell_type": "markdown",
   "metadata": {},
   "source": [
    "Обозначения:\n",
    "\n",
    "- $X$ — матрица признаков (нулевой столбец состоит из единиц)\n",
    "\n",
    "- $y$ — вектор целевого признака\n",
    "\n",
    "- $P$ — матрица, на которую умножаются признаки\n",
    "\n",
    "- $w$ — вектор весов линейной регрессии (нулевой элемент равен сдвигу)"
   ]
  },
  {
   "cell_type": "markdown",
   "metadata": {},
   "source": [
    "Предсказания:\n",
    "\n",
    "$$\n",
    "a = Xw\n",
    "$$\n",
    "\n",
    "Задача обучения:\n",
    "\n",
    "$$\n",
    "w = \\arg\\min_w MSE(Xw, y)\n",
    "$$\n",
    "\n",
    "Формула обучения:\n",
    "\n",
    "$$\n",
    "w = (X^T X)^{-1} X^T y\n",
    "$$"
   ]
  },
  {
   "cell_type": "markdown",
   "metadata": {},
   "source": [
    "*В качестве защиты данных мы хотим использовать алгоритм умножения признаков на обратимую матрицу.\n",
    "Такой алгоритм можно будет использовать, если качество линейной регрессии не изменится.\n",
    "Обратимую матрицу назовем* **Р**. \n",
    "\n",
    "Тогда зашифрованные признаки (назовем их **V**) будут выглядеть так:\n",
    "**V = XP**\n",
    "\n",
    "Формула предсказаний будет иметь вид: \n",
    "\n",
    " **a_p = Vw_p** или **a_p = XPw_р** \n",
    " "
   ]
  },
  {
   "cell_type": "markdown",
   "metadata": {},
   "source": [
    "\n",
    "$$ #Формула обучения:$$\n",
    "\n",
    "$$ w_p = (V^T V) ^ {-1} V^T y $$ \n",
    "$$или$$\n",
    "\n",
    "$$ w_p = ((XP)^T XP) ^{-1} (XP) ^T y $$ \n",
    "\n",
    "$$ w_p = ((XP)^T XP)^{-1} (XP)^T y $$\n",
    "\n",
    "$$ #XP^T  транспонируем по отдельности, по правилам транспонирования порядок поменяется и получится P^T X^T $$\n",
    "\n",
    "$$ w_p = (P^T X^T XP)^{-1} P^T X^T y $$\n",
    "\n",
    "$$ w_p = (P^T(X^T X) P)^{-1} P^T X^T y $$\n",
    "\n",
    "$$ w_p = P^{-1}(X^T X)^{-1} (P^T)^{-1} P^T X^T y $$\n",
    "\n",
    "$$ #произведение матриц  (P^T) ^ {-1}   и  P^T   равно единичной матрице, а умножение единичной матрицы на матрицу$$ $$#равно  этой же матрице, тогда: $$\n",
    "\n",
    "$$ w_p = P^{-1}(X^T X)^{-1} X^T y $$\n",
    "\n",
    "$$ # обращаем внимание, что в изначальной формуле обучения w = (X^T X)^{-1} X^T y $$\n",
    "\n",
    "$$ тогда $$\n",
    "\n",
    "$$ w_p = P^{-1} w $$"
   ]
  },
  {
   "cell_type": "markdown",
   "metadata": {},
   "source": [
    "**Зависимость вектора весов первоначальных признаков и зашифрованных признаков следующая**:\n",
    "    \n",
    "вектор весов зашифрованных признаков равен проиизведению вектора весов первоначальных признаков, умноженных на матрицу, обратную обратимой матрице P."
   ]
  },
  {
   "cell_type": "markdown",
   "metadata": {},
   "source": [
    "$$ # тогда вектор весов первоначальных признаков расчитается так:$$\n",
    "\n",
    "$$ Pw_p = PP^{-1} * w $$\n",
    "\n",
    "$$ # PP^{-1} - это единичная матрица, тогда $$\n",
    "\n",
    "$$ w = P w_p$$ "
   ]
  },
  {
   "cell_type": "markdown",
   "metadata": {},
   "source": [
    "Вектор весов первоначальных признаков равен произведению вектора весов зашифрованных признаков, умноженных на обратимую матрицу."
   ]
  },
  {
   "cell_type": "markdown",
   "metadata": {},
   "source": [
    "$$ #перейдем к формуле предсказаний $$\n",
    "\n",
    "$$ a_p = X P P^{-1} w $$\n",
    "\n",
    "$$ #отсюда $$\n",
    "\n",
    "$$ a_p = X w $$"
   ]
  },
  {
   "cell_type": "markdown",
   "metadata": {},
   "source": [
    "Таким образом удалось доказать, что **а = ap**, значит, математически доказано, что при умножении признаков на обратимую матрицу, предсказания не изменятся, а значит, качество линейной регрессии не изменится.\n",
    "\n",
    "**Можно использовать алгоритм умножения признаков на обратимую матрицу в качестве защиты признаков**. "
   ]
  },
  {
   "cell_type": "markdown",
   "metadata": {},
   "source": [
    "## Алгоритм преобразования"
   ]
  },
  {
   "cell_type": "markdown",
   "metadata": {},
   "source": [
    "Проанализируем, как связаны параметры линейной регрессии в исходной задаче и в преобразованной, для этого:\n",
    "\n",
    "- подготовим матрицы признаков и целевых признаков\n",
    "\n",
    "- сгенерируем обратимую матрицу\n",
    "\n",
    "- создадим матрицу преобразованных признаков\n",
    "\n",
    "- проверим, в какой зависимости находятся значения параметров линейной регрессии в исходной задаче и в преобразованной"
   ]
  },
  {
   "cell_type": "code",
   "execution_count": 7,
   "metadata": {},
   "outputs": [
    {
     "name": "stdout",
     "output_type": "stream",
     "text": [
      "[[1.00e+00 4.10e+01 4.96e+04 1.00e+00]\n",
      " [0.00e+00 4.60e+01 3.80e+04 1.00e+00]\n",
      " [0.00e+00 2.90e+01 2.10e+04 0.00e+00]\n",
      " ...\n",
      " [0.00e+00 2.00e+01 3.39e+04 2.00e+00]\n",
      " [1.00e+00 2.20e+01 3.27e+04 3.00e+00]\n",
      " [1.00e+00 2.80e+01 4.06e+04 1.00e+00]]\n"
     ]
    },
    {
     "data": {
      "text/plain": [
       "array([0, 1, 0, ..., 0, 0, 0])"
      ]
     },
     "execution_count": 7,
     "metadata": {},
     "output_type": "execute_result"
    }
   ],
   "source": [
    "# создаем датафремы, а из них массивы признаков и целевых признаков\n",
    "\n",
    "features  = df.drop(['Страховые выплаты'], axis=1)\n",
    "\n",
    "target = df['Страховые выплаты']\n",
    "\n",
    "features = features.values\n",
    "\n",
    "target = target. values\n",
    "\n",
    "print(features)\n",
    "\n",
    "target"
   ]
  },
  {
   "cell_type": "code",
   "execution_count": 8,
   "metadata": {
    "scrolled": false
   },
   "outputs": [
    {
     "data": {
      "text/plain": [
       "array([[ 2229, 47318, 66876, 37443],\n",
       "       [25657, 73245, 19429, 34054],\n",
       "       [27924,  2892, 13394, 54260],\n",
       "       [61521,  8863, 36384,  9777]])"
      ]
     },
     "execution_count": 8,
     "metadata": {},
     "output_type": "execute_result"
    }
   ],
   "source": [
    "# сгенерируем обратимую матрицу - квадратную, с кол-вом строк, как кол-во столбцов матрицы с признаками\n",
    "\n",
    "P = np.random.randint(0, 79000, (4, 4))\n",
    "\n",
    "P\n"
   ]
  },
  {
   "cell_type": "code",
   "execution_count": 9,
   "metadata": {
    "scrolled": true
   },
   "outputs": [
    {
     "data": {
      "text/plain": [
       "array([[-9.23762139e-06,  4.18977295e-06,  1.16605781e-06,\n",
       "         1.43127169e-05],\n",
       "       [-1.37080672e-06,  1.51728707e-05, -8.10859846e-06,\n",
       "        -2.59765464e-06],\n",
       "       [ 1.56978003e-05, -1.06930348e-05, -5.25210142e-06,\n",
       "         6.27461318e-06],\n",
       "       [ 9.52071051e-07, -3.25334568e-07,  1.95583434e-05,\n",
       "        -8.77622665e-06]])"
      ]
     },
     "execution_count": 9,
     "metadata": {},
     "output_type": "execute_result"
    }
   ],
   "source": [
    "# проверим, обратима ли матрица P\n",
    "\n",
    "np.linalg.inv(P)"
   ]
  },
  {
   "cell_type": "markdown",
   "metadata": {},
   "source": [
    "Код сработал, значит, матрица P действительно обратима."
   ]
  },
  {
   "cell_type": "code",
   "execution_count": 10,
   "metadata": {
    "scrolled": false
   },
   "outputs": [
    {
     "data": {
      "text/plain": [
       "array([[1.38614609e+09, 1.46502426e+08, 6.65242249e+08, 2.69273943e+09],\n",
       "       [1.06235374e+09, 1.13274133e+08, 5.09902118e+08, 2.06345626e+09],\n",
       "       [5.87148053e+08, 6.28561050e+07, 2.81837441e+08, 1.14044757e+09],\n",
       "       ...,\n",
       "       [9.47259782e+08, 9.95214260e+07, 4.54517948e+08, 1.84011463e+09],\n",
       "       [9.13866046e+08, 9.62536970e+07, 4.38587266e+08, 1.77511796e+09],\n",
       "       [1.13449655e+09, 1.19522241e+08, 5.44443672e+08, 2.20395673e+09]])"
      ]
     },
     "execution_count": 10,
     "metadata": {},
     "output_type": "execute_result"
    }
   ],
   "source": [
    "# создадим матрицу преобразованных признаков - XP\n",
    "\n",
    "XP = features.dot(P)\n",
    "\n",
    "XP"
   ]
  },
  {
   "cell_type": "markdown",
   "metadata": {},
   "source": [
    "$$ # ранее было вычислено, что $$\n",
    "\n",
    "$$ w = P * w_p$$ "
   ]
  },
  {
   "cell_type": "code",
   "execution_count": 11,
   "metadata": {},
   "outputs": [],
   "source": [
    "# в матрицу признаков добавим столбец, состоящий из единиц, а параметр w0 - к вектору w.\n",
    "\n",
    "X_1 = np.concatenate((np.ones((features.shape[0], 1)), features), axis=1)\n",
    "\n",
    "y = target\n",
    "\n",
    "w = (np.linalg.inv(X_1.T.dot(X_1))).dot(X_1.T).dot(y)\n",
    "\n",
    "w = w[1:]\n",
    "\n",
    "w0 = w[0]"
   ]
  },
  {
   "cell_type": "code",
   "execution_count": 12,
   "metadata": {},
   "outputs": [
    {
     "name": "stdout",
     "output_type": "stream",
     "text": [
      "[ 7.92580543e-03  3.57083050e-02 -1.70080492e-07 -1.35676623e-02]\n"
     ]
    },
    {
     "data": {
      "text/plain": [
       "0.007925805428953745"
      ]
     },
     "execution_count": 12,
     "metadata": {},
     "output_type": "execute_result"
    }
   ],
   "source": [
    "# выведем на экран значения параметров линейной регрессии на первоначальных признаках\n",
    "\n",
    "print(w)\n",
    "\n",
    "w0"
   ]
  },
  {
   "cell_type": "code",
   "execution_count": 13,
   "metadata": {},
   "outputs": [],
   "source": [
    "# тоже самое проделаем с параметрами линейной регресии на зашифрованных признаках\n",
    "\n",
    "XP_1 = np.concatenate((np.ones((XP.shape[0], 1)), XP), axis=1)\n",
    "\n"
   ]
  },
  {
   "cell_type": "code",
   "execution_count": 14,
   "metadata": {
    "scrolled": true
   },
   "outputs": [
    {
     "data": {
      "text/plain": [
       "array([-9.38235502e-01, -1.17796129e-07,  5.66178228e-07, -3.42543440e-07,\n",
       "        1.14998312e-07])"
      ]
     },
     "execution_count": 14,
     "metadata": {},
     "output_type": "execute_result"
    }
   ],
   "source": [
    "w_p = (np.linalg.inv(XP_1.T.dot(XP_1))).dot(XP_1.T).dot(y) \n",
    "\n",
    "w_p"
   ]
  },
  {
   "cell_type": "code",
   "execution_count": 15,
   "metadata": {},
   "outputs": [],
   "source": [
    "w_p = w_p[1:]\n",
    "\n",
    "w_p0 = w_p[0]"
   ]
  },
  {
   "cell_type": "code",
   "execution_count": 16,
   "metadata": {},
   "outputs": [
    {
     "name": "stdout",
     "output_type": "stream",
     "text": [
      "[-1.17796129e-07  5.66178228e-07 -3.42543440e-07  1.14998312e-07]\n"
     ]
    },
    {
     "data": {
      "text/plain": [
       "-1.1779612851550528e-07"
      ]
     },
     "execution_count": 16,
     "metadata": {},
     "output_type": "execute_result"
    }
   ],
   "source": [
    "print(w_p)\n",
    "\n",
    "w_p0"
   ]
  },
  {
   "cell_type": "code",
   "execution_count": 17,
   "metadata": {
    "scrolled": false
   },
   "outputs": [
    {
     "data": {
      "text/plain": [
       "array([-1.17796206e-07,  5.66178227e-07, -3.42543377e-07,  1.14998337e-07])"
      ]
     },
     "execution_count": 17,
     "metadata": {},
     "output_type": "execute_result"
    }
   ],
   "source": [
    "# проверим выявленную ранее зависимость\n",
    "\n",
    "w_p = np.linalg.inv(P).dot(w)\n",
    "\n",
    "w_p"
   ]
  },
  {
   "cell_type": "markdown",
   "metadata": {},
   "source": [
    "Сравниваем с w_p, полученным выше, данные совпадают."
   ]
  },
  {
   "cell_type": "code",
   "execution_count": 18,
   "metadata": {
    "scrolled": true
   },
   "outputs": [
    {
     "data": {
      "text/plain": [
       "array([ 7.92580543e-03,  3.57083050e-02, -1.70080492e-07, -1.35676623e-02])"
      ]
     },
     "execution_count": 18,
     "metadata": {},
     "output_type": "execute_result"
    }
   ],
   "source": [
    "# проверим выявленную ранее зависимость\n",
    "\n",
    "w = P.dot(w_p)\n",
    "\n",
    "w"
   ]
  },
  {
   "cell_type": "markdown",
   "metadata": {},
   "source": [
    "Сравниваем с w, полученным выше, данные совпадают."
   ]
  },
  {
   "cell_type": "markdown",
   "metadata": {},
   "source": [
    "Таким образом, предположенная зависимость векторов признаков изначальных признаков и зашифрованных подтвердилась."
   ]
  },
  {
   "cell_type": "markdown",
   "metadata": {},
   "source": [
    "## Проверка алгоритма"
   ]
  },
  {
   "cell_type": "markdown",
   "metadata": {},
   "source": [
    "Применим предложенный алгоритм преобразования данных с помощью матричных операций. И проверим с помощью метрики R2, что качество линейной регрессии из sklearn не отличается до и после преобразования."
   ]
  },
  {
   "cell_type": "code",
   "execution_count": 19,
   "metadata": {},
   "outputs": [
    {
     "data": {
      "text/plain": [
       "LinearRegression()"
      ]
     },
     "execution_count": 19,
     "metadata": {},
     "output_type": "execute_result"
    }
   ],
   "source": [
    "# инициализируем и обучим модель на первоначальных признаках\n",
    "\n",
    "model = LinearRegression()\n",
    "\n",
    "model.fit(features, target)\n"
   ]
  },
  {
   "cell_type": "code",
   "execution_count": 20,
   "metadata": {},
   "outputs": [
    {
     "name": "stdout",
     "output_type": "stream",
     "text": [
      "Предсказанные ответы на первоначальных признаках: [ 0.51172715  0.68431581  0.09373365 ... -0.25697046 -0.19099161\n",
      "  0.04904991]\n"
     ]
    }
   ],
   "source": [
    "# проверим предсказания на первоначальных признаках\n",
    "\n",
    "predictions = model.predict(features)\n",
    "\n",
    "print('Предсказанные ответы на первоначальных признаках:', predictions)"
   ]
  },
  {
   "cell_type": "code",
   "execution_count": 21,
   "metadata": {
    "scrolled": true
   },
   "outputs": [
    {
     "name": "stdout",
     "output_type": "stream",
     "text": [
      "Предсказанные ответы на преобразованных признаках: [ 0.51172715  0.68431581  0.09373365 ... -0.25697046 -0.19099161\n",
      "  0.04904991]\n"
     ]
    }
   ],
   "source": [
    "# проверим предсказания на преобразованных признаках\n",
    "\n",
    "model_p = model.fit(XP, target)\n",
    "\n",
    "predictions_p = model_p.predict(XP)\n",
    "\n",
    "print('Предсказанные ответы на преобразованных признаках:', predictions_p)"
   ]
  },
  {
   "cell_type": "markdown",
   "metadata": {},
   "source": [
    "Предсказанные ответы совпадают, что подтверждает правильность выбранного алгоритма для преобразования данных."
   ]
  },
  {
   "cell_type": "code",
   "execution_count": 22,
   "metadata": {},
   "outputs": [
    {
     "name": "stdout",
     "output_type": "stream",
     "text": [
      "R2 модели исходной задачи: 0.4249455028666801\n",
      "R2 модели преобразованной задачи: 0.4249455028666802\n"
     ]
    }
   ],
   "source": [
    "# проверим метрики качества моделей на первоначальных и преобразованных признаках:\n",
    "\n",
    "print('R2 модели исходной задачи:', r2_score(target, predictions))\n",
    "\n",
    "print('R2 модели преобразованной задачи:', r2_score(target, predictions_p))"
   ]
  },
  {
   "cell_type": "markdown",
   "metadata": {},
   "source": [
    "## ВЫВОД"
   ]
  },
  {
   "cell_type": "markdown",
   "metadata": {},
   "source": [
    "Перед страховой компанией стояла задача по защите персональных данных клиентов. \n",
    "С этой целью был разработан  метод преобразования данных, заключающийся в умножении признаков (персональных данных) на обратимую матрицу. Математически, а также с помощью модели линейной регрессии было доказано, что при преобразовании признаков, предсказанные признаки не изменятся, а также не пострадает качесьтво модели. Это доказывает возможность применения предложенного алгоритма  преобразования данных."
   ]
  }
 ],
 "metadata": {
  "ExecuteTimeLog": [
   {
    "duration": 412,
    "start_time": "2023-11-02T10:41:23.825Z"
   },
   {
    "duration": 78,
    "start_time": "2023-11-02T10:41:48.358Z"
   },
   {
    "duration": 21,
    "start_time": "2023-11-02T10:41:59.186Z"
   },
   {
    "duration": 10,
    "start_time": "2023-11-02T10:42:10.006Z"
   },
   {
    "duration": 11,
    "start_time": "2023-11-02T10:42:47.352Z"
   },
   {
    "duration": 23,
    "start_time": "2023-11-02T10:43:19.047Z"
   },
   {
    "duration": 66,
    "start_time": "2023-11-02T11:01:46.270Z"
   },
   {
    "duration": 438,
    "start_time": "2023-11-02T11:02:10.263Z"
   },
   {
    "duration": 774,
    "start_time": "2023-11-02T11:02:15.200Z"
   },
   {
    "duration": 103,
    "start_time": "2023-11-02T12:17:58.551Z"
   },
   {
    "duration": 17,
    "start_time": "2023-11-02T12:20:19.689Z"
   },
   {
    "duration": 3,
    "start_time": "2023-11-02T12:20:38.338Z"
   },
   {
    "duration": 9,
    "start_time": "2023-11-02T12:20:44.355Z"
   },
   {
    "duration": 8,
    "start_time": "2023-11-02T12:26:01.797Z"
   },
   {
    "duration": 8,
    "start_time": "2023-11-02T12:26:08.094Z"
   },
   {
    "duration": 18,
    "start_time": "2023-11-02T12:28:10.536Z"
   },
   {
    "duration": 14,
    "start_time": "2023-11-02T12:28:38.598Z"
   },
   {
    "duration": 4,
    "start_time": "2023-11-02T12:29:58.064Z"
   },
   {
    "duration": 9,
    "start_time": "2023-11-02T12:30:38.981Z"
   },
   {
    "duration": 4,
    "start_time": "2023-11-02T12:30:52.670Z"
   },
   {
    "duration": 6,
    "start_time": "2023-11-02T12:35:54.632Z"
   },
   {
    "duration": 5,
    "start_time": "2023-11-02T12:40:14.987Z"
   },
   {
    "duration": 621,
    "start_time": "2023-11-02T12:40:38.032Z"
   },
   {
    "duration": 405,
    "start_time": "2023-11-02T12:40:45.690Z"
   },
   {
    "duration": 5,
    "start_time": "2023-11-02T12:41:21.740Z"
   },
   {
    "duration": 7,
    "start_time": "2023-11-02T12:52:09.215Z"
   },
   {
    "duration": 15,
    "start_time": "2023-11-02T12:54:22.258Z"
   },
   {
    "duration": 136,
    "start_time": "2023-11-02T12:54:35.557Z"
   },
   {
    "duration": 105,
    "start_time": "2023-11-02T12:54:43.316Z"
   },
   {
    "duration": 10,
    "start_time": "2023-11-02T12:56:20.856Z"
   },
   {
    "duration": 11,
    "start_time": "2023-11-02T12:56:51.152Z"
   },
   {
    "duration": 13,
    "start_time": "2023-11-02T12:57:10.079Z"
   },
   {
    "duration": 100,
    "start_time": "2023-11-02T12:57:18.132Z"
   },
   {
    "duration": 14,
    "start_time": "2023-11-02T12:57:33.102Z"
   },
   {
    "duration": 8,
    "start_time": "2023-11-02T12:58:33.802Z"
   },
   {
    "duration": 8,
    "start_time": "2023-11-02T13:00:04.513Z"
   },
   {
    "duration": 404,
    "start_time": "2023-11-02T13:00:28.214Z"
   },
   {
    "duration": 183,
    "start_time": "2023-11-02T13:00:29.723Z"
   },
   {
    "duration": 13,
    "start_time": "2023-11-02T13:00:40.378Z"
   },
   {
    "duration": 8,
    "start_time": "2023-11-02T13:02:07.607Z"
   },
   {
    "duration": 779,
    "start_time": "2023-11-02T13:02:19.886Z"
   },
   {
    "duration": 94,
    "start_time": "2023-11-02T13:02:24.675Z"
   },
   {
    "duration": 95,
    "start_time": "2023-11-02T13:02:36.108Z"
   },
   {
    "duration": 1718,
    "start_time": "2023-11-03T06:44:03.769Z"
   },
   {
    "duration": 77,
    "start_time": "2023-11-03T06:44:05.490Z"
   },
   {
    "duration": 15,
    "start_time": "2023-11-03T06:44:05.569Z"
   },
   {
    "duration": 19,
    "start_time": "2023-11-03T06:44:05.586Z"
   },
   {
    "duration": 30,
    "start_time": "2023-11-03T06:44:05.607Z"
   },
   {
    "duration": 709,
    "start_time": "2023-11-03T06:44:05.639Z"
   },
   {
    "duration": 5,
    "start_time": "2023-11-03T06:44:06.349Z"
   },
   {
    "duration": 446,
    "start_time": "2023-11-03T06:44:06.356Z"
   },
   {
    "duration": 249,
    "start_time": "2023-11-03T06:44:06.804Z"
   },
   {
    "duration": 102,
    "start_time": "2023-11-03T06:44:07.056Z"
   },
   {
    "duration": 27,
    "start_time": "2023-11-03T06:46:26.302Z"
   },
   {
    "duration": 95,
    "start_time": "2023-11-03T06:47:55.714Z"
   },
   {
    "duration": 5,
    "start_time": "2023-11-03T06:48:04.722Z"
   },
   {
    "duration": 5,
    "start_time": "2023-11-03T06:48:21.749Z"
   },
   {
    "duration": 3,
    "start_time": "2023-11-03T06:48:33.488Z"
   },
   {
    "duration": 34,
    "start_time": "2023-11-03T06:48:33.496Z"
   },
   {
    "duration": 11,
    "start_time": "2023-11-03T06:48:33.532Z"
   },
   {
    "duration": 11,
    "start_time": "2023-11-03T06:48:33.544Z"
   },
   {
    "duration": 24,
    "start_time": "2023-11-03T06:48:33.557Z"
   },
   {
    "duration": 736,
    "start_time": "2023-11-03T06:48:33.584Z"
   },
   {
    "duration": 4,
    "start_time": "2023-11-03T06:48:34.322Z"
   },
   {
    "duration": 446,
    "start_time": "2023-11-03T06:48:34.327Z"
   },
   {
    "duration": 184,
    "start_time": "2023-11-03T06:48:34.775Z"
   },
   {
    "duration": 100,
    "start_time": "2023-11-03T06:48:34.961Z"
   },
   {
    "duration": 426,
    "start_time": "2023-11-03T06:50:13.314Z"
   },
   {
    "duration": 30310,
    "start_time": "2023-11-03T06:51:11.421Z"
   },
   {
    "duration": 83,
    "start_time": "2023-11-03T06:52:21.162Z"
   },
   {
    "duration": 307,
    "start_time": "2023-11-03T06:52:40.240Z"
   },
   {
    "duration": 14,
    "start_time": "2023-11-03T06:52:44.758Z"
   },
   {
    "duration": 284,
    "start_time": "2023-11-03T06:53:11.763Z"
   },
   {
    "duration": 121,
    "start_time": "2023-11-03T06:55:16.538Z"
   },
   {
    "duration": 8,
    "start_time": "2023-11-03T06:55:31.851Z"
   },
   {
    "duration": 10,
    "start_time": "2023-11-03T08:14:06.113Z"
   },
   {
    "duration": 8,
    "start_time": "2023-11-03T08:15:07.031Z"
   },
   {
    "duration": 7,
    "start_time": "2023-11-03T08:15:58.564Z"
   },
   {
    "duration": 3,
    "start_time": "2023-11-03T08:16:34.053Z"
   },
   {
    "duration": 44,
    "start_time": "2023-11-03T08:16:34.063Z"
   },
   {
    "duration": 11,
    "start_time": "2023-11-03T08:16:34.110Z"
   },
   {
    "duration": 30,
    "start_time": "2023-11-03T08:16:34.123Z"
   },
   {
    "duration": 52,
    "start_time": "2023-11-03T08:16:34.155Z"
   },
   {
    "duration": 649,
    "start_time": "2023-11-03T08:16:34.210Z"
   },
   {
    "duration": 7,
    "start_time": "2023-11-03T08:16:34.861Z"
   },
   {
    "duration": 472,
    "start_time": "2023-11-03T08:16:34.870Z"
   },
   {
    "duration": 16243,
    "start_time": "2023-11-03T08:16:35.346Z"
   },
   {
    "duration": 257,
    "start_time": "2023-11-03T08:16:51.591Z"
   },
   {
    "duration": 105,
    "start_time": "2023-11-03T08:16:51.850Z"
   },
   {
    "duration": 8,
    "start_time": "2023-11-03T08:16:57.282Z"
   },
   {
    "duration": 16,
    "start_time": "2023-11-03T08:19:34.393Z"
   },
   {
    "duration": 12,
    "start_time": "2023-11-03T08:20:15.625Z"
   },
   {
    "duration": 5,
    "start_time": "2023-11-03T08:23:38.705Z"
   },
   {
    "duration": 5,
    "start_time": "2023-11-03T08:23:41.232Z"
   },
   {
    "duration": 10,
    "start_time": "2023-11-03T08:23:44.844Z"
   },
   {
    "duration": 9,
    "start_time": "2023-11-03T08:23:59.050Z"
   },
   {
    "duration": 5,
    "start_time": "2023-11-03T08:24:26.384Z"
   },
   {
    "duration": 12,
    "start_time": "2023-11-03T08:24:31.134Z"
   },
   {
    "duration": 16,
    "start_time": "2023-11-03T08:24:32.949Z"
   },
   {
    "duration": 11,
    "start_time": "2023-11-03T08:24:50.015Z"
   },
   {
    "duration": 10,
    "start_time": "2023-11-03T08:32:51.265Z"
   },
   {
    "duration": 8,
    "start_time": "2023-11-03T08:32:59.041Z"
   },
   {
    "duration": 7,
    "start_time": "2023-11-03T08:34:09.172Z"
   },
   {
    "duration": 5,
    "start_time": "2023-11-03T08:36:49.011Z"
   },
   {
    "duration": 3,
    "start_time": "2023-11-03T10:48:52.675Z"
   },
   {
    "duration": 28,
    "start_time": "2023-11-03T10:48:52.785Z"
   },
   {
    "duration": 19,
    "start_time": "2023-11-03T10:48:52.815Z"
   },
   {
    "duration": 51,
    "start_time": "2023-11-03T10:48:52.836Z"
   },
   {
    "duration": 25,
    "start_time": "2023-11-03T10:48:52.889Z"
   },
   {
    "duration": 768,
    "start_time": "2023-11-03T10:48:52.917Z"
   },
   {
    "duration": 6,
    "start_time": "2023-11-03T10:48:53.687Z"
   },
   {
    "duration": 12,
    "start_time": "2023-11-03T10:48:53.695Z"
   },
   {
    "duration": 44,
    "start_time": "2023-11-03T10:48:53.709Z"
   },
   {
    "duration": 97,
    "start_time": "2023-11-03T10:48:53.755Z"
   },
   {
    "duration": 96,
    "start_time": "2023-11-03T10:48:53.854Z"
   },
   {
    "duration": 15,
    "start_time": "2023-11-03T10:48:54.046Z"
   },
   {
    "duration": 193,
    "start_time": "2023-11-03T10:48:54.063Z"
   },
   {
    "duration": 7,
    "start_time": "2023-11-03T10:48:54.259Z"
   },
   {
    "duration": 6,
    "start_time": "2023-11-03T10:48:54.346Z"
   },
   {
    "duration": 5,
    "start_time": "2023-11-03T10:49:40.128Z"
   },
   {
    "duration": 4,
    "start_time": "2023-11-03T10:53:01.844Z"
   },
   {
    "duration": 4,
    "start_time": "2023-11-03T10:53:15.143Z"
   },
   {
    "duration": 80,
    "start_time": "2023-11-03T11:46:35.790Z"
   },
   {
    "duration": 2,
    "start_time": "2023-11-03T12:02:09.926Z"
   },
   {
    "duration": 2,
    "start_time": "2023-11-03T12:02:10.964Z"
   },
   {
    "duration": 1618,
    "start_time": "2023-11-04T16:59:44.371Z"
   },
   {
    "duration": 85,
    "start_time": "2023-11-04T17:16:33.190Z"
   },
   {
    "duration": 16,
    "start_time": "2023-11-04T17:16:45.003Z"
   },
   {
    "duration": 20,
    "start_time": "2023-11-04T17:18:28.409Z"
   },
   {
    "duration": 100,
    "start_time": "2023-11-04T17:19:05.484Z"
   },
   {
    "duration": 24,
    "start_time": "2023-11-04T17:19:36.001Z"
   },
   {
    "duration": 670,
    "start_time": "2023-11-04T17:22:11.384Z"
   },
   {
    "duration": 9,
    "start_time": "2023-11-04T18:35:46.655Z"
   },
   {
    "duration": 85,
    "start_time": "2023-11-04T18:46:48.268Z"
   },
   {
    "duration": 13,
    "start_time": "2023-11-04T18:52:52.532Z"
   },
   {
    "duration": 5,
    "start_time": "2023-11-04T18:55:43.563Z"
   },
   {
    "duration": 4,
    "start_time": "2023-11-04T18:55:59.007Z"
   },
   {
    "duration": 29,
    "start_time": "2023-11-04T18:56:05.686Z"
   },
   {
    "duration": 6,
    "start_time": "2023-11-04T18:57:31.486Z"
   },
   {
    "duration": 5,
    "start_time": "2023-11-04T18:58:10.534Z"
   },
   {
    "duration": 6,
    "start_time": "2023-11-04T18:59:12.826Z"
   },
   {
    "duration": 8,
    "start_time": "2023-11-04T19:00:07.403Z"
   },
   {
    "duration": 4,
    "start_time": "2023-11-04T19:00:28.682Z"
   },
   {
    "duration": 6,
    "start_time": "2023-11-04T19:02:53.933Z"
   },
   {
    "duration": 4,
    "start_time": "2023-11-04T19:03:13.600Z"
   },
   {
    "duration": 204,
    "start_time": "2023-11-04T19:58:30.086Z"
   },
   {
    "duration": 4,
    "start_time": "2023-11-04T19:58:42.903Z"
   },
   {
    "duration": 6,
    "start_time": "2023-11-04T19:59:09.298Z"
   },
   {
    "duration": 7,
    "start_time": "2023-11-04T20:00:16.070Z"
   },
   {
    "duration": 5,
    "start_time": "2023-11-04T20:02:15.235Z"
   },
   {
    "duration": 6,
    "start_time": "2023-11-04T20:04:13.065Z"
   },
   {
    "duration": 5,
    "start_time": "2023-11-04T20:04:46.453Z"
   },
   {
    "duration": 7,
    "start_time": "2023-11-04T20:05:54.399Z"
   },
   {
    "duration": 6,
    "start_time": "2023-11-04T20:28:45.813Z"
   },
   {
    "duration": 4,
    "start_time": "2023-11-04T20:31:49.279Z"
   },
   {
    "duration": 2,
    "start_time": "2023-11-04T20:38:30.354Z"
   },
   {
    "duration": 5,
    "start_time": "2023-11-04T20:38:58.892Z"
   },
   {
    "duration": 4,
    "start_time": "2023-11-04T20:39:50.363Z"
   },
   {
    "duration": 13,
    "start_time": "2023-11-04T20:51:04.966Z"
   },
   {
    "duration": 80,
    "start_time": "2023-11-04T20:52:38.743Z"
   },
   {
    "duration": 43,
    "start_time": "2023-11-04T20:53:03.472Z"
   },
   {
    "duration": 7,
    "start_time": "2023-11-04T20:53:53.525Z"
   },
   {
    "duration": 7,
    "start_time": "2023-11-04T20:56:42.045Z"
   },
   {
    "duration": 14,
    "start_time": "2023-11-04T20:58:10.923Z"
   },
   {
    "duration": 11,
    "start_time": "2023-11-04T20:59:04.077Z"
   },
   {
    "duration": 5,
    "start_time": "2023-11-04T21:00:04.960Z"
   },
   {
    "duration": 6,
    "start_time": "2023-11-04T21:00:10.208Z"
   },
   {
    "duration": 5,
    "start_time": "2023-11-04T21:00:21.864Z"
   },
   {
    "duration": 13,
    "start_time": "2023-11-04T21:00:24.304Z"
   },
   {
    "duration": 8,
    "start_time": "2023-11-04T21:00:50.871Z"
   },
   {
    "duration": 3,
    "start_time": "2023-11-04T21:01:21.597Z"
   },
   {
    "duration": 37,
    "start_time": "2023-11-04T21:01:21.607Z"
   },
   {
    "duration": 21,
    "start_time": "2023-11-04T21:01:21.646Z"
   },
   {
    "duration": 30,
    "start_time": "2023-11-04T21:01:21.669Z"
   },
   {
    "duration": 60,
    "start_time": "2023-11-04T21:01:21.701Z"
   },
   {
    "duration": 723,
    "start_time": "2023-11-04T21:01:21.763Z"
   },
   {
    "duration": 7,
    "start_time": "2023-11-04T21:01:22.488Z"
   },
   {
    "duration": 35,
    "start_time": "2023-11-04T21:01:22.497Z"
   },
   {
    "duration": 25,
    "start_time": "2023-11-04T21:01:22.533Z"
   },
   {
    "duration": 56,
    "start_time": "2023-11-04T21:01:22.560Z"
   },
   {
    "duration": 95,
    "start_time": "2023-11-04T21:01:22.619Z"
   },
   {
    "duration": 49,
    "start_time": "2023-11-04T21:01:22.716Z"
   },
   {
    "duration": 14,
    "start_time": "2023-11-04T21:01:22.767Z"
   },
   {
    "duration": 37,
    "start_time": "2023-11-04T21:01:22.782Z"
   },
   {
    "duration": 93,
    "start_time": "2023-11-04T21:01:22.822Z"
   },
   {
    "duration": 13,
    "start_time": "2023-11-04T21:01:22.917Z"
   },
   {
    "duration": 99,
    "start_time": "2023-11-04T21:01:23.015Z"
   },
   {
    "duration": 6,
    "start_time": "2023-11-04T21:01:57.501Z"
   },
   {
    "duration": 6,
    "start_time": "2023-11-04T21:02:06.370Z"
   },
   {
    "duration": 3,
    "start_time": "2023-11-04T21:03:33.498Z"
   },
   {
    "duration": 29,
    "start_time": "2023-11-04T21:03:34.355Z"
   },
   {
    "duration": 9,
    "start_time": "2023-11-04T21:03:35.301Z"
   },
   {
    "duration": 10,
    "start_time": "2023-11-04T21:03:36.976Z"
   },
   {
    "duration": 27,
    "start_time": "2023-11-04T21:03:38.286Z"
   },
   {
    "duration": 556,
    "start_time": "2023-11-04T21:03:39.728Z"
   },
   {
    "duration": 8,
    "start_time": "2023-11-04T21:03:47.785Z"
   },
   {
    "duration": 4,
    "start_time": "2023-11-04T21:03:49.564Z"
   },
   {
    "duration": 4,
    "start_time": "2023-11-04T21:03:50.647Z"
   },
   {
    "duration": 4,
    "start_time": "2023-11-04T21:03:53.909Z"
   },
   {
    "duration": 2,
    "start_time": "2023-11-04T21:03:56.714Z"
   },
   {
    "duration": 5,
    "start_time": "2023-11-04T21:03:58.067Z"
   },
   {
    "duration": 7,
    "start_time": "2023-11-04T21:03:59.043Z"
   },
   {
    "duration": 3,
    "start_time": "2023-11-04T21:04:00.302Z"
   },
   {
    "duration": 6,
    "start_time": "2023-11-04T21:04:06.547Z"
   },
   {
    "duration": 9,
    "start_time": "2023-11-04T21:04:07.714Z"
   },
   {
    "duration": 5,
    "start_time": "2023-11-04T21:04:09.532Z"
   },
   {
    "duration": 10,
    "start_time": "2023-11-04T21:08:50.438Z"
   },
   {
    "duration": 6,
    "start_time": "2023-11-04T21:08:58.062Z"
   },
   {
    "duration": 9,
    "start_time": "2023-11-04T21:10:35.452Z"
   },
   {
    "duration": 9,
    "start_time": "2023-11-04T21:10:45.760Z"
   },
   {
    "duration": 11,
    "start_time": "2023-11-04T21:11:41.639Z"
   },
   {
    "duration": 12,
    "start_time": "2023-11-04T21:11:49.610Z"
   },
   {
    "duration": 3,
    "start_time": "2023-11-04T21:15:45.220Z"
   },
   {
    "duration": 48,
    "start_time": "2023-11-04T21:15:45.232Z"
   },
   {
    "duration": 9,
    "start_time": "2023-11-04T21:15:45.282Z"
   },
   {
    "duration": 30,
    "start_time": "2023-11-04T21:15:45.292Z"
   },
   {
    "duration": 35,
    "start_time": "2023-11-04T21:15:45.324Z"
   },
   {
    "duration": 642,
    "start_time": "2023-11-04T21:15:45.361Z"
   },
   {
    "duration": 7,
    "start_time": "2023-11-04T21:15:46.013Z"
   },
   {
    "duration": 47,
    "start_time": "2023-11-04T21:15:46.021Z"
   },
   {
    "duration": 20,
    "start_time": "2023-11-04T21:15:46.069Z"
   },
   {
    "duration": 41,
    "start_time": "2023-11-04T21:15:46.091Z"
   },
   {
    "duration": 46,
    "start_time": "2023-11-04T21:15:46.135Z"
   },
   {
    "duration": 49,
    "start_time": "2023-11-04T21:15:46.215Z"
   },
   {
    "duration": 52,
    "start_time": "2023-11-04T21:15:46.266Z"
   },
   {
    "duration": 94,
    "start_time": "2023-11-04T21:15:46.321Z"
   },
   {
    "duration": 8,
    "start_time": "2023-11-04T21:15:46.418Z"
   },
   {
    "duration": 108,
    "start_time": "2023-11-04T21:15:46.428Z"
   },
   {
    "duration": 181,
    "start_time": "2023-11-04T21:15:46.538Z"
   },
   {
    "duration": 209,
    "start_time": "2023-11-04T21:15:46.721Z"
   },
   {
    "duration": 3,
    "start_time": "2023-11-04T21:17:22.509Z"
   },
   {
    "duration": 30,
    "start_time": "2023-11-04T21:17:23.168Z"
   },
   {
    "duration": 9,
    "start_time": "2023-11-04T21:17:23.900Z"
   },
   {
    "duration": 10,
    "start_time": "2023-11-04T21:17:25.325Z"
   },
   {
    "duration": 21,
    "start_time": "2023-11-04T21:17:26.922Z"
   },
   {
    "duration": 561,
    "start_time": "2023-11-04T21:17:28.522Z"
   },
   {
    "duration": 7,
    "start_time": "2023-11-04T21:17:38.879Z"
   },
   {
    "duration": 4,
    "start_time": "2023-11-04T21:17:40.320Z"
   },
   {
    "duration": 5,
    "start_time": "2023-11-04T21:17:41.253Z"
   },
   {
    "duration": 4,
    "start_time": "2023-11-04T21:17:43.057Z"
   },
   {
    "duration": 2,
    "start_time": "2023-11-04T21:17:46.174Z"
   },
   {
    "duration": 6,
    "start_time": "2023-11-04T21:17:49.346Z"
   },
   {
    "duration": 7,
    "start_time": "2023-11-04T21:17:50.116Z"
   },
   {
    "duration": 3,
    "start_time": "2023-11-04T21:17:53.438Z"
   },
   {
    "duration": 4,
    "start_time": "2023-11-04T21:17:58.095Z"
   },
   {
    "duration": 5,
    "start_time": "2023-11-04T21:17:59.049Z"
   },
   {
    "duration": 6,
    "start_time": "2023-11-04T21:18:00.352Z"
   },
   {
    "duration": 10,
    "start_time": "2023-11-04T21:18:03.861Z"
   },
   {
    "duration": 76,
    "start_time": "2023-11-04T21:27:12.825Z"
   },
   {
    "duration": 6,
    "start_time": "2023-11-04T21:27:19.704Z"
   },
   {
    "duration": 8,
    "start_time": "2023-11-04T21:27:58.516Z"
   },
   {
    "duration": 4,
    "start_time": "2023-11-04T21:28:06.387Z"
   },
   {
    "duration": 2,
    "start_time": "2023-11-04T21:30:20.545Z"
   },
   {
    "duration": 1329,
    "start_time": "2023-11-04T21:34:42.589Z"
   },
   {
    "duration": 31,
    "start_time": "2023-11-04T21:34:43.920Z"
   },
   {
    "duration": 13,
    "start_time": "2023-11-04T21:34:43.952Z"
   },
   {
    "duration": 12,
    "start_time": "2023-11-04T21:34:43.967Z"
   },
   {
    "duration": 24,
    "start_time": "2023-11-04T21:34:43.980Z"
   },
   {
    "duration": 624,
    "start_time": "2023-11-04T21:34:44.006Z"
   },
   {
    "duration": 7,
    "start_time": "2023-11-04T21:34:44.631Z"
   },
   {
    "duration": 6,
    "start_time": "2023-11-04T21:34:44.639Z"
   },
   {
    "duration": 24,
    "start_time": "2023-11-04T21:34:44.647Z"
   },
   {
    "duration": 44,
    "start_time": "2023-11-04T21:34:44.674Z"
   },
   {
    "duration": 7,
    "start_time": "2023-11-04T21:34:44.720Z"
   },
   {
    "duration": 87,
    "start_time": "2023-11-04T21:34:44.729Z"
   },
   {
    "duration": 8,
    "start_time": "2023-11-04T21:34:44.818Z"
   },
   {
    "duration": 5,
    "start_time": "2023-11-04T21:34:44.828Z"
   },
   {
    "duration": 10,
    "start_time": "2023-11-04T21:34:44.916Z"
   },
   {
    "duration": 99,
    "start_time": "2023-11-04T21:34:44.928Z"
   },
   {
    "duration": 94,
    "start_time": "2023-11-04T21:34:45.029Z"
   },
   {
    "duration": 95,
    "start_time": "2023-11-04T21:34:45.124Z"
   },
   {
    "duration": 2311,
    "start_time": "2023-11-04T21:58:39.532Z"
   },
   {
    "duration": 77,
    "start_time": "2023-11-04T21:58:41.845Z"
   },
   {
    "duration": 15,
    "start_time": "2023-11-04T21:58:41.924Z"
   },
   {
    "duration": 14,
    "start_time": "2023-11-04T21:58:41.941Z"
   },
   {
    "duration": 26,
    "start_time": "2023-11-04T21:58:41.957Z"
   },
   {
    "duration": 674,
    "start_time": "2023-11-04T21:58:41.985Z"
   },
   {
    "duration": 8,
    "start_time": "2023-11-04T21:58:42.660Z"
   },
   {
    "duration": 10,
    "start_time": "2023-11-04T21:58:42.669Z"
   },
   {
    "duration": 10,
    "start_time": "2023-11-04T21:58:42.681Z"
   },
   {
    "duration": 6,
    "start_time": "2023-11-04T21:58:42.746Z"
   },
   {
    "duration": 91,
    "start_time": "2023-11-04T21:58:42.753Z"
   },
   {
    "duration": 6,
    "start_time": "2023-11-04T21:58:42.847Z"
   },
   {
    "duration": 10,
    "start_time": "2023-11-04T21:58:42.855Z"
   },
   {
    "duration": 77,
    "start_time": "2023-11-04T21:58:42.868Z"
   },
   {
    "duration": 10,
    "start_time": "2023-11-04T21:58:42.948Z"
   },
   {
    "duration": 84,
    "start_time": "2023-11-04T21:58:42.960Z"
   },
   {
    "duration": 9,
    "start_time": "2023-11-04T21:58:43.046Z"
   },
   {
    "duration": 88,
    "start_time": "2023-11-04T21:58:43.058Z"
   },
   {
    "duration": 44327,
    "start_time": "2023-11-04T22:01:18.859Z"
   },
   {
    "duration": 30,
    "start_time": "2023-11-04T22:02:03.187Z"
   },
   {
    "duration": 15,
    "start_time": "2023-11-04T22:02:03.218Z"
   },
   {
    "duration": 13,
    "start_time": "2023-11-04T22:02:03.235Z"
   },
   {
    "duration": 42,
    "start_time": "2023-11-04T22:02:03.250Z"
   },
   {
    "duration": 653,
    "start_time": "2023-11-04T22:02:03.294Z"
   },
   {
    "duration": 7,
    "start_time": "2023-11-04T22:02:03.949Z"
   },
   {
    "duration": 27,
    "start_time": "2023-11-04T22:02:03.958Z"
   },
   {
    "duration": 21,
    "start_time": "2023-11-04T22:02:03.987Z"
   },
   {
    "duration": 36,
    "start_time": "2023-11-04T22:02:04.011Z"
   },
   {
    "duration": 97,
    "start_time": "2023-11-04T22:02:04.049Z"
   },
   {
    "duration": 10,
    "start_time": "2023-11-04T22:02:04.148Z"
   },
   {
    "duration": 6,
    "start_time": "2023-11-04T22:02:04.161Z"
   },
   {
    "duration": 7,
    "start_time": "2023-11-04T22:02:04.245Z"
   },
   {
    "duration": 13,
    "start_time": "2023-11-04T22:02:04.255Z"
   },
   {
    "duration": 12,
    "start_time": "2023-11-04T22:02:04.344Z"
   },
   {
    "duration": 89,
    "start_time": "2023-11-04T22:02:04.359Z"
   },
   {
    "duration": 91,
    "start_time": "2023-11-04T22:02:04.453Z"
   },
   {
    "duration": 2166,
    "start_time": "2023-11-04T23:37:09.836Z"
   },
   {
    "duration": 29,
    "start_time": "2023-11-04T23:37:12.004Z"
   },
   {
    "duration": 14,
    "start_time": "2023-11-04T23:37:12.035Z"
   },
   {
    "duration": 31,
    "start_time": "2023-11-04T23:37:12.051Z"
   },
   {
    "duration": 29,
    "start_time": "2023-11-04T23:37:12.085Z"
   },
   {
    "duration": 645,
    "start_time": "2023-11-04T23:37:12.116Z"
   },
   {
    "duration": 8,
    "start_time": "2023-11-04T23:37:12.763Z"
   },
   {
    "duration": 16,
    "start_time": "2023-11-04T23:37:12.772Z"
   },
   {
    "duration": 17,
    "start_time": "2023-11-04T23:37:12.790Z"
   },
   {
    "duration": 49,
    "start_time": "2023-11-04T23:37:12.809Z"
   },
   {
    "duration": 83,
    "start_time": "2023-11-04T23:37:12.861Z"
   },
   {
    "duration": 7,
    "start_time": "2023-11-04T23:37:12.946Z"
   },
   {
    "duration": 12,
    "start_time": "2023-11-04T23:37:12.955Z"
   },
   {
    "duration": 13,
    "start_time": "2023-11-04T23:37:13.045Z"
   },
   {
    "duration": 85,
    "start_time": "2023-11-04T23:37:13.060Z"
   },
   {
    "duration": 25,
    "start_time": "2023-11-04T23:37:13.146Z"
   },
   {
    "duration": 100,
    "start_time": "2023-11-04T23:37:13.249Z"
   },
   {
    "duration": 97,
    "start_time": "2023-11-04T23:37:13.351Z"
   },
   {
    "duration": 109,
    "start_time": "2023-11-15T11:00:16.858Z"
   },
   {
    "duration": 61,
    "start_time": "2023-11-15T11:00:25.904Z"
   },
   {
    "duration": 101,
    "start_time": "2023-11-15T11:01:02.913Z"
   },
   {
    "duration": 11,
    "start_time": "2023-11-15T11:06:21.721Z"
   },
   {
    "duration": 1907,
    "start_time": "2023-11-15T11:06:32.325Z"
   },
   {
    "duration": 93,
    "start_time": "2023-11-15T11:06:34.238Z"
   },
   {
    "duration": 14,
    "start_time": "2023-11-15T11:06:34.333Z"
   },
   {
    "duration": 13,
    "start_time": "2023-11-15T11:06:34.349Z"
   },
   {
    "duration": 22,
    "start_time": "2023-11-15T11:06:34.363Z"
   },
   {
    "duration": 680,
    "start_time": "2023-11-15T11:06:34.386Z"
   },
   {
    "duration": 6,
    "start_time": "2023-11-15T11:06:35.068Z"
   },
   {
    "duration": 10,
    "start_time": "2023-11-15T11:06:35.076Z"
   },
   {
    "duration": 27,
    "start_time": "2023-11-15T11:06:35.088Z"
   },
   {
    "duration": 15,
    "start_time": "2023-11-15T11:06:35.117Z"
   },
   {
    "duration": 7,
    "start_time": "2023-11-15T11:06:35.135Z"
   },
   {
    "duration": 8,
    "start_time": "2023-11-15T11:16:29.835Z"
   },
   {
    "duration": 8,
    "start_time": "2023-11-15T11:20:30.525Z"
   },
   {
    "duration": 15,
    "start_time": "2023-11-15T11:20:50.527Z"
   },
   {
    "duration": 85,
    "start_time": "2023-11-15T11:22:09.622Z"
   },
   {
    "duration": 5,
    "start_time": "2023-11-15T11:22:26.249Z"
   },
   {
    "duration": 24,
    "start_time": "2023-11-15T11:22:33.395Z"
   },
   {
    "duration": 90,
    "start_time": "2023-11-15T11:24:17.317Z"
   },
   {
    "duration": 10,
    "start_time": "2023-11-15T11:24:35.539Z"
   },
   {
    "duration": 10,
    "start_time": "2023-11-15T11:25:04.887Z"
   },
   {
    "duration": 24,
    "start_time": "2023-11-15T11:25:57.387Z"
   },
   {
    "duration": 8,
    "start_time": "2023-11-15T11:34:53.917Z"
   },
   {
    "duration": 6,
    "start_time": "2023-11-15T11:35:11.940Z"
   },
   {
    "duration": 7,
    "start_time": "2023-11-15T11:35:29.132Z"
   },
   {
    "duration": 4,
    "start_time": "2023-11-15T11:35:34.964Z"
   },
   {
    "duration": 8,
    "start_time": "2023-11-15T11:35:37.027Z"
   },
   {
    "duration": 9,
    "start_time": "2023-11-15T11:35:38.206Z"
   },
   {
    "duration": 30,
    "start_time": "2023-11-15T11:36:50.820Z"
   },
   {
    "duration": 9,
    "start_time": "2023-11-15T11:37:27.140Z"
   },
   {
    "duration": 3,
    "start_time": "2023-11-15T11:37:33.461Z"
   },
   {
    "duration": 43,
    "start_time": "2023-11-15T11:37:33.474Z"
   },
   {
    "duration": 15,
    "start_time": "2023-11-15T11:37:33.522Z"
   },
   {
    "duration": 11,
    "start_time": "2023-11-15T11:37:33.543Z"
   },
   {
    "duration": 24,
    "start_time": "2023-11-15T11:37:33.555Z"
   },
   {
    "duration": 771,
    "start_time": "2023-11-15T11:37:33.581Z"
   },
   {
    "duration": 7,
    "start_time": "2023-11-15T11:37:34.354Z"
   },
   {
    "duration": 5,
    "start_time": "2023-11-15T11:37:34.362Z"
   },
   {
    "duration": 40,
    "start_time": "2023-11-15T11:37:34.369Z"
   },
   {
    "duration": 7,
    "start_time": "2023-11-15T11:37:34.422Z"
   },
   {
    "duration": 7,
    "start_time": "2023-11-15T11:37:34.431Z"
   },
   {
    "duration": 20,
    "start_time": "2023-11-15T11:37:34.499Z"
   },
   {
    "duration": 6,
    "start_time": "2023-11-15T11:37:34.521Z"
   },
   {
    "duration": 18,
    "start_time": "2023-11-15T11:37:34.529Z"
   },
   {
    "duration": 14,
    "start_time": "2023-11-15T11:37:34.602Z"
   },
   {
    "duration": 19,
    "start_time": "2023-11-15T11:37:34.625Z"
   },
   {
    "duration": 11,
    "start_time": "2023-11-15T11:37:34.700Z"
   },
   {
    "duration": 21,
    "start_time": "2023-11-15T11:37:34.720Z"
   },
   {
    "duration": 3,
    "start_time": "2023-11-15T11:39:35.653Z"
   },
   {
    "duration": 5,
    "start_time": "2023-11-15T11:39:41.345Z"
   },
   {
    "duration": 3,
    "start_time": "2023-11-15T11:40:55.193Z"
   },
   {
    "duration": 4,
    "start_time": "2023-11-15T11:40:59.848Z"
   },
   {
    "duration": 97,
    "start_time": "2023-11-15T11:43:35.317Z"
   },
   {
    "duration": 7,
    "start_time": "2023-11-15T11:52:03.644Z"
   },
   {
    "duration": 10,
    "start_time": "2023-11-15T11:52:36.208Z"
   },
   {
    "duration": 132,
    "start_time": "2023-11-15T11:52:37.095Z"
   },
   {
    "duration": 12,
    "start_time": "2023-11-15T11:53:08.607Z"
   },
   {
    "duration": 180,
    "start_time": "2023-11-15T11:53:09.529Z"
   },
   {
    "duration": 159,
    "start_time": "2023-11-15T11:53:49.155Z"
   },
   {
    "duration": 7,
    "start_time": "2023-11-15T11:54:01.222Z"
   },
   {
    "duration": 40,
    "start_time": "2023-11-15T11:54:01.248Z"
   },
   {
    "duration": 33,
    "start_time": "2023-11-15T11:54:01.290Z"
   },
   {
    "duration": 31,
    "start_time": "2023-11-15T11:54:01.327Z"
   },
   {
    "duration": 66,
    "start_time": "2023-11-15T11:54:01.359Z"
   },
   {
    "duration": 744,
    "start_time": "2023-11-15T11:54:01.427Z"
   },
   {
    "duration": 8,
    "start_time": "2023-11-15T11:54:02.172Z"
   },
   {
    "duration": 102,
    "start_time": "2023-11-15T11:54:02.181Z"
   },
   {
    "duration": 47,
    "start_time": "2023-11-15T11:54:02.284Z"
   },
   {
    "duration": 15,
    "start_time": "2023-11-15T11:54:02.333Z"
   },
   {
    "duration": 93,
    "start_time": "2023-11-15T11:54:02.350Z"
   },
   {
    "duration": 9,
    "start_time": "2023-11-15T11:54:02.502Z"
   },
   {
    "duration": 36,
    "start_time": "2023-11-15T11:54:02.513Z"
   },
   {
    "duration": 61,
    "start_time": "2023-11-15T11:54:02.550Z"
   },
   {
    "duration": 22,
    "start_time": "2023-11-15T11:54:02.614Z"
   },
   {
    "duration": 5,
    "start_time": "2023-11-15T11:54:23.166Z"
   },
   {
    "duration": 7,
    "start_time": "2023-11-15T11:55:11.150Z"
   },
   {
    "duration": 4,
    "start_time": "2023-11-15T11:55:57.241Z"
   },
   {
    "duration": 12,
    "start_time": "2023-11-15T11:57:56.125Z"
   },
   {
    "duration": 114,
    "start_time": "2023-11-15T11:57:57.591Z"
   },
   {
    "duration": 121,
    "start_time": "2023-11-15T11:58:00.094Z"
   },
   {
    "duration": 10,
    "start_time": "2023-11-15T11:58:07.119Z"
   },
   {
    "duration": 1531,
    "start_time": "2023-11-15T11:58:24.427Z"
   },
   {
    "duration": 30,
    "start_time": "2023-11-15T11:58:25.960Z"
   },
   {
    "duration": 19,
    "start_time": "2023-11-15T11:58:25.991Z"
   },
   {
    "duration": 23,
    "start_time": "2023-11-15T11:58:26.012Z"
   },
   {
    "duration": 23,
    "start_time": "2023-11-15T11:58:26.037Z"
   },
   {
    "duration": 700,
    "start_time": "2023-11-15T11:58:26.062Z"
   },
   {
    "duration": 7,
    "start_time": "2023-11-15T11:58:26.764Z"
   },
   {
    "duration": 5,
    "start_time": "2023-11-15T11:58:26.773Z"
   },
   {
    "duration": 63,
    "start_time": "2023-11-15T11:58:26.780Z"
   },
   {
    "duration": 6,
    "start_time": "2023-11-15T11:58:26.846Z"
   },
   {
    "duration": 61,
    "start_time": "2023-11-15T11:58:26.854Z"
   },
   {
    "duration": 8,
    "start_time": "2023-11-15T11:58:26.917Z"
   },
   {
    "duration": 6,
    "start_time": "2023-11-15T11:58:26.932Z"
   },
   {
    "duration": 67,
    "start_time": "2023-11-15T11:58:26.941Z"
   },
   {
    "duration": 16,
    "start_time": "2023-11-15T11:58:27.010Z"
   },
   {
    "duration": 12,
    "start_time": "2023-11-15T11:58:27.029Z"
   },
   {
    "duration": 17,
    "start_time": "2023-11-15T11:58:27.101Z"
   },
   {
    "duration": 6,
    "start_time": "2023-11-15T11:58:27.125Z"
   },
   {
    "duration": 13,
    "start_time": "2023-11-15T11:58:27.133Z"
   },
   {
    "duration": 84,
    "start_time": "2023-11-15T11:58:27.147Z"
   },
   {
    "duration": 78,
    "start_time": "2023-11-15T11:58:27.238Z"
   },
   {
    "duration": 13,
    "start_time": "2023-11-15T11:58:27.322Z"
   },
   {
    "duration": 2181,
    "start_time": "2023-11-15T12:25:39.666Z"
   },
   {
    "duration": 87,
    "start_time": "2023-11-15T12:25:41.848Z"
   },
   {
    "duration": 11,
    "start_time": "2023-11-15T12:25:41.937Z"
   },
   {
    "duration": 34,
    "start_time": "2023-11-15T12:25:41.950Z"
   },
   {
    "duration": 37,
    "start_time": "2023-11-15T12:25:41.986Z"
   },
   {
    "duration": 582,
    "start_time": "2023-11-15T12:25:42.025Z"
   },
   {
    "duration": 6,
    "start_time": "2023-11-15T12:25:42.609Z"
   },
   {
    "duration": 8,
    "start_time": "2023-11-15T12:25:42.616Z"
   },
   {
    "duration": 32,
    "start_time": "2023-11-15T12:25:42.625Z"
   },
   {
    "duration": 161,
    "start_time": "2023-11-15T12:25:42.661Z"
   },
   {
    "duration": 45,
    "start_time": "2023-11-15T12:25:42.824Z"
   },
   {
    "duration": 93,
    "start_time": "2023-11-15T12:25:42.871Z"
   },
   {
    "duration": 90,
    "start_time": "2023-11-15T12:25:42.966Z"
   },
   {
    "duration": 6,
    "start_time": "2023-11-15T12:25:43.057Z"
   },
   {
    "duration": 96,
    "start_time": "2023-11-15T12:25:43.065Z"
   },
   {
    "duration": 93,
    "start_time": "2023-11-15T12:25:43.164Z"
   },
   {
    "duration": 7,
    "start_time": "2023-11-15T12:25:43.258Z"
   },
   {
    "duration": 11,
    "start_time": "2023-11-15T12:25:43.267Z"
   },
   {
    "duration": 82,
    "start_time": "2023-11-15T12:25:43.280Z"
   },
   {
    "duration": 103,
    "start_time": "2023-11-15T12:25:43.364Z"
   },
   {
    "duration": 92,
    "start_time": "2023-11-15T12:25:43.468Z"
   },
   {
    "duration": 98,
    "start_time": "2023-11-15T12:25:43.562Z"
   },
   {
    "duration": 5,
    "start_time": "2023-11-15T13:21:59.464Z"
   },
   {
    "duration": 151,
    "start_time": "2023-11-16T12:04:16.411Z"
   },
   {
    "duration": 105,
    "start_time": "2023-11-16T12:06:56.220Z"
   },
   {
    "duration": 1471,
    "start_time": "2023-11-16T12:10:37.877Z"
   },
   {
    "duration": 85,
    "start_time": "2023-11-16T12:10:39.350Z"
   },
   {
    "duration": 13,
    "start_time": "2023-11-16T12:10:39.437Z"
   },
   {
    "duration": 12,
    "start_time": "2023-11-16T12:10:39.452Z"
   },
   {
    "duration": 35,
    "start_time": "2023-11-16T12:10:39.466Z"
   },
   {
    "duration": 560,
    "start_time": "2023-11-16T12:10:39.503Z"
   },
   {
    "duration": 9,
    "start_time": "2023-11-16T12:10:40.065Z"
   },
   {
    "duration": 7,
    "start_time": "2023-11-16T12:10:40.075Z"
   },
   {
    "duration": 31,
    "start_time": "2023-11-16T12:10:40.084Z"
   },
   {
    "duration": 50,
    "start_time": "2023-11-16T12:10:40.118Z"
   },
   {
    "duration": 106,
    "start_time": "2023-11-16T12:10:40.169Z"
   },
   {
    "duration": 78,
    "start_time": "2023-11-16T12:10:40.277Z"
   },
   {
    "duration": 4,
    "start_time": "2023-11-16T12:10:40.358Z"
   },
   {
    "duration": 95,
    "start_time": "2023-11-16T12:10:40.364Z"
   },
   {
    "duration": 21,
    "start_time": "2023-11-16T12:10:40.462Z"
   },
   {
    "duration": 6,
    "start_time": "2023-11-16T12:10:40.558Z"
   },
   {
    "duration": 91,
    "start_time": "2023-11-16T12:10:40.566Z"
   },
   {
    "duration": 5,
    "start_time": "2023-11-16T12:10:40.659Z"
   },
   {
    "duration": 3,
    "start_time": "2023-11-16T12:11:52.933Z"
   },
   {
    "duration": 35,
    "start_time": "2023-11-16T12:11:52.946Z"
   },
   {
    "duration": 9,
    "start_time": "2023-11-16T12:11:52.983Z"
   },
   {
    "duration": 12,
    "start_time": "2023-11-16T12:11:52.994Z"
   },
   {
    "duration": 24,
    "start_time": "2023-11-16T12:11:53.008Z"
   },
   {
    "duration": 604,
    "start_time": "2023-11-16T12:11:53.034Z"
   },
   {
    "duration": 7,
    "start_time": "2023-11-16T12:11:53.639Z"
   },
   {
    "duration": 15,
    "start_time": "2023-11-16T12:11:53.647Z"
   },
   {
    "duration": 17,
    "start_time": "2023-11-16T12:11:53.663Z"
   },
   {
    "duration": 13,
    "start_time": "2023-11-16T12:11:53.683Z"
   },
   {
    "duration": 5,
    "start_time": "2023-11-16T12:11:53.756Z"
   },
   {
    "duration": 93,
    "start_time": "2023-11-16T12:11:53.763Z"
   },
   {
    "duration": 4,
    "start_time": "2023-11-16T12:11:53.858Z"
   },
   {
    "duration": 95,
    "start_time": "2023-11-16T12:11:53.864Z"
   },
   {
    "duration": 4,
    "start_time": "2023-11-16T12:11:53.962Z"
   },
   {
    "duration": 92,
    "start_time": "2023-11-16T12:11:53.967Z"
   },
   {
    "duration": 23,
    "start_time": "2023-11-16T12:11:54.060Z"
   },
   {
    "duration": 75,
    "start_time": "2023-11-16T12:11:54.085Z"
   },
   {
    "duration": 14,
    "start_time": "2023-11-16T12:11:54.162Z"
   },
   {
    "duration": 13,
    "start_time": "2023-11-16T12:11:54.255Z"
   },
   {
    "duration": 102,
    "start_time": "2023-11-16T12:11:54.357Z"
   },
   {
    "duration": 95,
    "start_time": "2023-11-16T12:11:54.461Z"
   },
   {
    "duration": 1300,
    "start_time": "2023-11-16T12:15:46.415Z"
   },
   {
    "duration": 29,
    "start_time": "2023-11-16T12:15:47.717Z"
   },
   {
    "duration": 12,
    "start_time": "2023-11-16T12:15:47.747Z"
   },
   {
    "duration": 33,
    "start_time": "2023-11-16T12:15:47.761Z"
   },
   {
    "duration": 19,
    "start_time": "2023-11-16T12:15:47.796Z"
   },
   {
    "duration": 575,
    "start_time": "2023-11-16T12:15:47.817Z"
   },
   {
    "duration": 7,
    "start_time": "2023-11-16T12:15:48.393Z"
   },
   {
    "duration": 9,
    "start_time": "2023-11-16T12:15:48.401Z"
   },
   {
    "duration": 9,
    "start_time": "2023-11-16T12:15:48.411Z"
   },
   {
    "duration": 7,
    "start_time": "2023-11-16T12:15:48.456Z"
   },
   {
    "duration": 5,
    "start_time": "2023-11-16T12:15:48.465Z"
   },
   {
    "duration": 88,
    "start_time": "2023-11-16T12:15:48.472Z"
   },
   {
    "duration": 4,
    "start_time": "2023-11-16T12:15:48.562Z"
   },
   {
    "duration": 94,
    "start_time": "2023-11-16T12:15:48.567Z"
   },
   {
    "duration": 101,
    "start_time": "2023-11-16T12:15:48.663Z"
   },
   {
    "duration": 8,
    "start_time": "2023-11-16T12:15:48.765Z"
   },
   {
    "duration": 10,
    "start_time": "2023-11-16T12:15:48.775Z"
   },
   {
    "duration": 7,
    "start_time": "2023-11-16T12:15:48.787Z"
   },
   {
    "duration": 10,
    "start_time": "2023-11-16T12:15:48.856Z"
   },
   {
    "duration": 93,
    "start_time": "2023-11-16T12:15:48.868Z"
   },
   {
    "duration": 96,
    "start_time": "2023-11-16T12:15:48.964Z"
   },
   {
    "duration": 9,
    "start_time": "2023-11-16T12:15:49.062Z"
   },
   {
    "duration": 2276,
    "start_time": "2023-11-16T13:19:25.465Z"
   },
   {
    "duration": 31,
    "start_time": "2023-11-16T13:19:27.743Z"
   },
   {
    "duration": 15,
    "start_time": "2023-11-16T13:19:27.775Z"
   },
   {
    "duration": 23,
    "start_time": "2023-11-16T13:19:27.792Z"
   },
   {
    "duration": 26,
    "start_time": "2023-11-16T13:19:27.817Z"
   },
   {
    "duration": 679,
    "start_time": "2023-11-16T13:19:27.845Z"
   },
   {
    "duration": 9,
    "start_time": "2023-11-16T13:19:28.526Z"
   },
   {
    "duration": 19,
    "start_time": "2023-11-16T13:19:28.536Z"
   },
   {
    "duration": 8,
    "start_time": "2023-11-16T13:19:28.556Z"
   },
   {
    "duration": 11,
    "start_time": "2023-11-16T13:19:28.610Z"
   },
   {
    "duration": 9,
    "start_time": "2023-11-16T13:19:28.624Z"
   },
   {
    "duration": 7,
    "start_time": "2023-11-16T13:19:28.713Z"
   },
   {
    "duration": 88,
    "start_time": "2023-11-16T13:19:28.723Z"
   },
   {
    "duration": 11,
    "start_time": "2023-11-16T13:19:28.813Z"
   },
   {
    "duration": 3,
    "start_time": "2023-11-16T13:19:28.826Z"
   },
   {
    "duration": 86,
    "start_time": "2023-11-16T13:19:28.831Z"
   },
   {
    "duration": 94,
    "start_time": "2023-11-16T13:19:28.919Z"
   },
   {
    "duration": 7,
    "start_time": "2023-11-16T13:19:29.015Z"
   },
   {
    "duration": 89,
    "start_time": "2023-11-16T13:19:29.024Z"
   },
   {
    "duration": 5,
    "start_time": "2023-11-16T13:19:29.115Z"
   },
   {
    "duration": 91,
    "start_time": "2023-11-16T13:19:29.123Z"
   },
   {
    "duration": 8,
    "start_time": "2023-11-16T13:19:29.216Z"
   }
  ],
  "kernelspec": {
   "display_name": "Python 3 (ipykernel)",
   "language": "python",
   "name": "python3"
  },
  "language_info": {
   "codemirror_mode": {
    "name": "ipython",
    "version": 3
   },
   "file_extension": ".py",
   "mimetype": "text/x-python",
   "name": "python",
   "nbconvert_exporter": "python",
   "pygments_lexer": "ipython3",
   "version": "3.9.7"
  },
  "toc": {
   "base_numbering": 1,
   "nav_menu": {},
   "number_sections": true,
   "sideBar": true,
   "skip_h1_title": true,
   "title_cell": "Содержание",
   "title_sidebar": "Contents",
   "toc_cell": true,
   "toc_position": {},
   "toc_section_display": true,
   "toc_window_display": true
  }
 },
 "nbformat": 4,
 "nbformat_minor": 2
}
